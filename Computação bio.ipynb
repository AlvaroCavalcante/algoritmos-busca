{
 "cells": [
  {
   "cell_type": "markdown",
   "metadata": {},
   "source": [
    "### Qual o problema ? \n",
    "- Maximizar o resultado da seguinte equação matemática\n",
    "![title](image/equacao.png)\n",
    "- Qual valor de X, resulta em um resultado maior ? \n",
    "- Não temos a resposta exata, ou seja, na teoria não sabemos o quanto essa função pode ser maximizada, mas temos em mente que quanto maior melhor"
   ]
  },
  {
   "cell_type": "markdown",
   "metadata": {},
   "source": [
    "### Representação \n",
    "- O domínio do problema se dá em um intervalo de [0, 1]\n",
    "- X pode assumir qualquer valor dentro desse domínio"
   ]
  },
  {
   "cell_type": "markdown",
   "metadata": {},
   "source": [
    "### Objetivo\n",
    "- Maximizar o resultado da equação através do melhor valor possível de X.\n",
    "- O melhor valor será definido por aquele que tiver o maior resultado final dentre todas as soluções encontradas"
   ]
  },
  {
   "cell_type": "markdown",
   "metadata": {},
   "source": [
    "## Codificando\n",
    "- Vamos começar com a importação das bibliotecas"
   ]
  },
  {
   "cell_type": "code",
   "execution_count": 11,
   "metadata": {
    "scrolled": true
   },
   "outputs": [],
   "source": [
    "import math\n",
    "import random\n",
    "import matplotlib.pyplot as plt\n",
    "import numpy as np\n",
    "%matplotlib inline"
   ]
  },
  {
   "cell_type": "markdown",
   "metadata": {},
   "source": [
    "### Criação da função de custo / avaliação\n",
    "- É basicamente o coração dos algoritmos de otimização\n",
    "- A função de custo é onde a avaliação do algoritmo vai acontecer de fato\n",
    "- Nesse caso a função de custo é dada simplesmente pelo resultado da equação que deve ser maximizado"
   ]
  },
  {
   "cell_type": "code",
   "execution_count": 12,
   "metadata": {},
   "outputs": [],
   "source": [
    "def funcao_custo(x):\n",
    "    custo = 2 ** -2 * (x - 0.1 / 0.9) ** 2 * (math.sin(5 * math.pi * x))** 6\n",
    "    return custo"
   ]
  },
  {
   "cell_type": "markdown",
   "metadata": {},
   "source": [
    "### Função de plotar o gráfico\n",
    "- Usado para plotar o gráfico com os resultados"
   ]
  },
  {
   "cell_type": "code",
   "execution_count": 13,
   "metadata": {},
   "outputs": [],
   "source": [
    "def plotar_busca(resultados):\n",
    "    t = np.arange(0.0, len(resultados), 1)\n",
    "    \n",
    "    plt.figure(figsize=(12,8))\n",
    "    plt.plot(t, resultados)\n",
    "    plt.show()"
   ]
  },
  {
   "cell_type": "markdown",
   "metadata": {},
   "source": [
    "### Função de get vizinhos\n",
    "- Essa função é usada para pegar os vizinhos de cada dimensão da minha variável, no nosso caso temos uma única dimensão, que é a variável X\n",
    "- Sendo assim vamos pegar os dois vizinhos possíveis do nosso X, considerando possíveis movimentos que ele pode fazer\n",
    "- O vizinho nada mais é que uma perturbação no valor inicial, pode se um valor constante ou alguma outra formula, como a guasiana"
   ]
  },
  {
   "cell_type": "code",
   "execution_count": 14,
   "metadata": {},
   "outputs": [],
   "source": [
    "def get_vizinhos(solucao, aprendizado):\n",
    "    vizinhos = []\n",
    "    aprendizado = aprendizado / 10 if aprendizado >= 10 else 1\n",
    "    constante = 0.005 / aprendizado\n",
    "    vizinho_superior = solucao + constante if solucao + constante < 1 else solucao\n",
    "    vizinho_inferior = solucao - constante if solucao - constante > 0 else solucao\n",
    "    \n",
    "    vizinhos.append(vizinho_superior)\n",
    "    vizinhos.append(vizinho_inferior)\n",
    "    return vizinhos"
   ]
  },
  {
   "cell_type": "markdown",
   "metadata": {},
   "source": [
    "### Função get valor aleatório\n",
    "- Função que vai garantir que meus valores aleatórios tenham um espaço mínimo entre eles.\n",
    "- Essa função é usada pois o Hill Climbing depende de ser executado várias vezes para que ele inicie de diferentes pontos.\n",
    "- Sem ela, esse inicialização pode acabar sendo muito próxima, fazendo com o que espaço de soluções não seja devidamente explorado"
   ]
  },
  {
   "cell_type": "code",
   "execution_count": 32,
   "metadata": {},
   "outputs": [],
   "source": [
    "def get_valor_aleatorio(espaco, x=0):\n",
    "    inicio = random.random()\n",
    "    valor = []\n",
    "    \n",
    "    for i in espaco:\n",
    "        diferenca = i - inicio\n",
    "        if diferenca > 0.05 or diferenca < -0.05:\n",
    "            valor.append(diferenca)\n",
    "\n",
    "    if len(valor) == len(espaco) or x > 300:\n",
    "        return inicio\n",
    "    else:\n",
    "        return get_valor_aleatorio(espaco, x = x + 1)"
   ]
  },
  {
   "cell_type": "markdown",
   "metadata": {},
   "source": [
    "### Hill Climbing\n",
    "- Função que vai fazer o cálculo do algoritmo de subida da encosta"
   ]
  },
  {
   "cell_type": "code",
   "execution_count": 26,
   "metadata": {
    "pixiedust": {
     "displayParams": {}
    },
    "scrolled": true
   },
   "outputs": [],
   "source": [
    "def hill_climbing(funcao_custo, solucao_inicial):\n",
    "    # random.seed(a=0)\n",
    "    solucao = solucao_inicial\n",
    "    custos = []\n",
    "    count = 1\n",
    "    parar_no_plato = 0\n",
    "\n",
    "    while count <= 400:\n",
    "        vizinhos = get_vizinhos(solucao, count)\n",
    "        \n",
    "        atual = funcao_custo(solucao)\n",
    "        melhor = atual \n",
    "        solucao_atual = solucao\n",
    "        custos.append(atual)\n",
    "\n",
    "        for i in range(len(vizinhos)):\n",
    "            custo = funcao_custo(vizinhos[i])\n",
    "            if custo >= melhor:\n",
    "                parar_no_plato = parar_no_plato + 1 if custo == melhor else 0\n",
    "                melhor = custo\n",
    "                solucao = vizinhos[i]\n",
    "\n",
    "        count += 1\n",
    "        if melhor == atual and solucao_atual == solucao or parar_no_plato == 20:\n",
    "            if parar_no_plato == 20: print('plato')\n",
    "            break\n",
    "\n",
    "    return solucao, custos"
   ]
  },
  {
   "cell_type": "code",
   "execution_count": 41,
   "metadata": {
    "scrolled": true
   },
   "outputs": [
    {
     "name": "stdout",
     "output_type": "stream",
     "text": [
      "Valor X: 0.5054994719482866\n",
      "custos [0.030529343017095662, 0.03416121362492725, 0.03673923285183876, 0.03802361131395878]\n"
     ]
    },
    {
     "data": {
      "image/png": "[encoded data removed]",
      "text/plain": [
       "<Figure size 864x576 with 1 Axes>"
      ]
     },
     "metadata": {
      "needs_background": "light"
     },
     "output_type": "display_data"
    }
   ],
   "source": [
    "custos = []\n",
    "solucao = []\n",
    "espaco_solucao = []\n",
    "\n",
    "for i in range(10):\n",
    "    espaco_solucao.append(get_valor_aleatorio(espaco_solucao))\n",
    "    \n",
    "    solucao_subida_encosta = hill_climbing(funcao_custo, espaco_solucao[len(espaco_solucao) - 1])\n",
    "    solucao.append(solucao_subida_encosta[0])\n",
    "    custos.append(solucao_subida_encosta[1])\n",
    "\n",
    "    if len(custos) > 1:\n",
    "        if max(custos[1]) > max(custos[0]):\n",
    "            custos.pop(0)\n",
    "        else:\n",
    "            custos.pop(1)\n",
    "            \n",
    "print('Valor X:', solucao_subida_encosta[0])\n",
    "print('custos', solucao_subida_encosta[1])\n",
    "plotar_busca(solucao_subida_encosta[1])"
   ]
  },
  {
   "cell_type": "markdown",
   "metadata": {},
   "source": [
    "### Tentativas de otimização\n",
    "- Código feito com objetivo de ajudar nosso algoritmo de busca\n",
    "#### Parada no platô\n",
    "- Caso nosso algoritmo tenha diversas interações sem gerar melhoria, ele da um break em sua execução\n",
    "#### Redução da \"taxa de aprendizado\" de forma dinâmica\n",
    "- Reduzir a \"taxa de aprendizado\"/perturbação nos nosso vizinhos, como forma de tentar evitar que o algoritmo perca um máximo/mínimo local/globa por conta de dar um \"passo\" muito grande\n",
    "#### Exploração do espaço de características\n",
    "- Garantir que os pontos gerados de forma aleatória estejam distantes uns dos outros para explorar um espaço maior\n"
   ]
  },
  {
   "cell_type": "markdown",
   "metadata": {},
   "source": [
    "### Simulated annealing\n",
    "Recozimento simulado é inspirado em um fenômeno da física, onde se esquenta um metal ou vidro até quase ele se liquefazer e depois se esfria devagar, para que os átomos percam a vibração aos poucos e o material fique rígido\n",
    "\n",
    "- A diferença dele para o Hill Climbing é que ele tem uma probabilidade P de aceitar valores negativos\n",
    "- Quanto mais no início do algoritmo, maior a sua chance de aceitar um valor negativo"
   ]
  },
  {
   "cell_type": "markdown",
   "metadata": {},
   "source": [
    "### Probabilidade\n",
    "- A probabilidade do simulated annealing é dada pela função exponencial exp(x)\n",
    "- Nessa função, elevamos o número de euler ~2.7 à um valor de x.\n",
    "- O X no nosso caso é o resultado da subtração entre o novo custo e o custo anterior divido pela temperatura: (x' - x) / T\n",
    "- A temperatura vai diminuindo gradativamente, limitando nossas interações e garantindo que a probabilidade de se aceitar valores negativos também diminua"
   ]
  },
  {
   "cell_type": "code",
   "execution_count": 18,
   "metadata": {},
   "outputs": [],
   "source": [
    "def simulated_annealing(dominio, funcao_custo, temperatura = 10000.0, resfriamento = 0.95, passo = 1):\n",
    "    # random.seed(a=0)\n",
    "    solucao = random.random()\n",
    "    custos = []\n",
    "    count = 1\n",
    "    parar_no_plato = 0\n",
    "\n",
    "    while temperatura > 0.1:\n",
    "        vizinhos = get_vizinhos(solucao, count)\n",
    "        \n",
    "        atual = funcao_custo(solucao)\n",
    "        melhor = atual \n",
    "        solucao_atual = solucao\n",
    "        custos.append(atual)\n",
    "\n",
    "        for i in range(len(vizinhos)):\n",
    "            \n",
    "            if parar_no_plato == 20:\n",
    "                break\n",
    "\n",
    "            custo = funcao_custo(vizinhos[i])\n",
    "            probabilidade = pow(math.e, (-custo - melhor) / temperatura)\n",
    "            \n",
    "            if custo >= melhor or random.random() < probabilidade:\n",
    "                parar_no_plato = parar_no_plato + 1 if custo == melhor else 0\n",
    "                melhor = custo\n",
    "                solucao = vizinhos[i]\n",
    "\n",
    "        temperatura = temperatura * resfriamento\n",
    "\n",
    "    return solucao, custos"
   ]
  },
  {
   "cell_type": "code",
   "execution_count": 19,
   "metadata": {},
   "outputs": [
    {
     "name": "stdout",
     "output_type": "stream",
     "text": [
      "Menor custo 2.1640862001264716e-11\n"
     ]
    },
    {
     "data": {
      "image/png": "[encoded data removed]",
      "text/plain": [
       "<Figure size 864x576 with 1 Axes>"
      ]
     },
     "metadata": {
      "needs_background": "light"
     },
     "output_type": "display_data"
    }
   ],
   "source": [
    "solucao_tempera_simulada = simulated_annealing([0, 1], funcao_custo)\n",
    "custo_tempera_simulada = funcao_custo(solucao_tempera_simulada[0])\n",
    "\n",
    "print('Menor custo', custo_tempera_simulada)\n",
    "plotar_busca(solucao_tempera_simulada[1])"
   ]
  }
 ],
 "metadata": {
  "kernelspec": {
   "display_name": "Python 3",
   "language": "python",
   "name": "python3"
  },
  "language_info": {
   "codemirror_mode": {
    "name": "ipython",
    "version": 3
   },
   "file_extension": ".py",
   "mimetype": "text/x-python",
   "name": "python",
   "nbconvert_exporter": "python",
   "pygments_lexer": "ipython3",
   "version": "3.6.9"
  }
 },
 "nbformat": 4,
 "nbformat_minor": 4
}
